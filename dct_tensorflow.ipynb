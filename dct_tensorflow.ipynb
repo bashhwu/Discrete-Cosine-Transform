{
 "cells": [
  {
   "cell_type": "code",
   "execution_count": null,
   "metadata": {},
   "outputs": [],
   "source": [
    "%reset"
   ]
  },
  {
   "cell_type": "code",
   "execution_count": 4,
   "metadata": {},
   "outputs": [],
   "source": [
    "import numpy as np\n",
    "import matplotlib.pyplot as plt\n",
    "from numpy.linalg import norm\n",
    "import tensorflow as tf\n",
    "from tensorflow.spectral import dct, idct \n",
    "from tensorflow.contrib.framework import argsort\n",
    "\n",
    "from sklearn.metrics import mean_squared_error"
   ]
  },
  {
   "cell_type": "code",
   "execution_count": 5,
   "metadata": {},
   "outputs": [],
   "source": [
    "t=np.linspace(1,100,100)\n",
    "xx=t+50*np.cos(t*2*np.pi/40)\n",
    "xx=np.expand_dims(xx, axis=0) # For the placeholder\n"
   ]
  },
  {
   "cell_type": "code",
   "execution_count": 6,
   "metadata": {},
   "outputs": [
    {
     "data": {
      "text/plain": [
       "(1, 100)"
      ]
     },
     "execution_count": 6,
     "metadata": {},
     "output_type": "execute_result"
    }
   ],
   "source": [
    "np.shape(xx)"
   ]
  },
  {
   "cell_type": "code",
   "execution_count": 7,
   "metadata": {},
   "outputs": [
    {
     "data": {
      "text/plain": [
       "array([ 5.00000580e+02, -2.86568085e+02, -8.41677094e+00, -3.18303890e+01,\n",
       "       -1.96287804e+01,  3.41012573e+02,  1.60471420e+01, -5.83684349e+00,\n",
       "        4.52071095e+00, -3.52632713e+00,  2.34712481e+00, -2.35644197e+00,\n",
       "        1.47649527e+00, -1.68379700e+00,  1.02527440e+00, -1.26159751e+00,\n",
       "        7.57088184e-01, -9.79533255e-01,  5.83263993e-01, -7.81629980e-01,\n",
       "        4.63373572e-01, -6.37646079e-01,  3.77119601e-01, -5.29419482e-01,\n",
       "        3.12815160e-01, -4.45974916e-01,  2.63508826e-01, -3.80517155e-01,\n",
       "        2.24857271e-01, -3.28075409e-01,  1.93891302e-01, -2.85365343e-01,\n",
       "        1.68855235e-01, -2.50210673e-01,  1.48090497e-01, -2.20820904e-01,\n",
       "        1.30738184e-01, -1.96110040e-01,  1.16291694e-01, -1.74992099e-01,\n",
       "        1.03739776e-01, -1.56965390e-01,  9.30721313e-02, -1.41137064e-01,\n",
       "        8.37499946e-02, -1.27523288e-01,  7.57415965e-02, -1.15468077e-01,\n",
       "        6.86897188e-02, -1.05053417e-01,  6.24539964e-02, -9.54139978e-02,\n",
       "        5.66712506e-02, -8.69549513e-02,  5.16298190e-02, -7.93995410e-02,\n",
       "        4.72433977e-02, -7.25387111e-02,  4.32321765e-02, -6.64617419e-02,\n",
       "        3.94776911e-02, -6.06839135e-02,  3.61290798e-02, -5.57393096e-02,\n",
       "        3.30931619e-02, -5.08017242e-02,  3.00477985e-02, -4.63380665e-02,\n",
       "        2.75523830e-02, -4.23968993e-02,  2.50195339e-02, -3.83812822e-02,\n",
       "        2.28244178e-02, -3.51800099e-02,  2.06446648e-02, -3.16642225e-02,\n",
       "        1.88033916e-02, -2.86301877e-02,  1.67655423e-02, -2.56031659e-02,\n",
       "        1.49566336e-02, -2.27474310e-02,  1.32388128e-02, -2.00853683e-02,\n",
       "        1.16246296e-02, -1.74307227e-02,  1.00834221e-02, -1.49593670e-02,\n",
       "        8.48717429e-03, -1.25352154e-02,  6.98666368e-03, -1.01497704e-02,\n",
       "        5.43957483e-03, -7.84666464e-03,  3.75908357e-03, -5.58702042e-03,\n",
       "        3.15416395e-03, -3.31655261e-03,  1.49991491e-03, -1.12117361e-03],\n",
       "      dtype=float32)"
      ]
     },
     "execution_count": 7,
     "metadata": {},
     "output_type": "execute_result"
    }
   ],
   "source": [
    "## Placeholders\n",
    "x= tf.placeholder(tf.float32, shape=(1,100))\n",
    "\n",
    "## Dicrete cosine function \n",
    "x_dct=dct(x,2, norm='ortho')\n",
    "x_dct=tf.squeeze(x_dct)\n",
    "\n",
    "org_x_dct=tf.identity(x_dct)\n",
    "## We add (-) for sorting the dct coeffs in a descending order and returning \n",
    "## the indices for those ordered coeffs. \n",
    "indx=argsort(-tf.abs(x_dct))\n",
    "\n",
    "\n",
    "sess=tf.Session()\n",
    "sess.run(org_x_dct,{x:xx})\n"
   ]
  },
  {
   "cell_type": "code",
   "execution_count": 13,
   "metadata": {},
   "outputs": [],
   "source": [
    "i=tf.constant(0)"
   ]
  },
  {
   "cell_type": "code",
   "execution_count": 14,
   "metadata": {},
   "outputs": [
    {
     "data": {
      "text/plain": [
       "2"
      ]
     },
     "execution_count": 14,
     "metadata": {},
     "output_type": "execute_result"
    }
   ],
   "source": [
    "def cond(i):\n",
    "    #a=tf.norm(tf.gather(x_dct, tf.gather(indx, tf.range(i))))\n",
    "    a=tf.norm(tf.gather(x_dct, indx[0:i]))\n",
    "\n",
    "    b=tf.norm(x_dct)\n",
    "    return tf.less(a/b,0.96)\n",
    "\n",
    "\n",
    "def body(i):\n",
    "    return tf.add(i,1)\n",
    "\n",
    "\n",
    "\n",
    "k=tf.while_loop(cond, body, [i])\n",
    "k=tf.subtract(k,1)  # We should subtract 1 from the output of the loop as i is inceased by 1 before we check the condition. \n",
    "sess.run(k, {x:xx})  # This is the number of coefficients (do not bother with the index)\n"
   ]
  },
  {
   "cell_type": "code",
   "execution_count": 17,
   "metadata": {},
   "outputs": [
    {
     "data": {
      "text/plain": [
       "0.9019783"
      ]
     },
     "execution_count": 17,
     "metadata": {},
     "output_type": "execute_result"
    }
   ],
   "source": [
    "# Let us verify that\n",
    "#a=tf.norm(tf.gather(x_dct, tf.gather(indx, tf.range(res))))\n",
    "a=tf.norm(tf.gather(x_dct, indx[0:k]))\n",
    "\n",
    "b=tf.norm(x_dct)\n",
    "alpha=tf.divide(a,b)\n",
    "\n",
    "sess.run(alpha, {x:xx})"
   ]
  },
  {
   "cell_type": "code",
   "execution_count": 18,
   "metadata": {},
   "outputs": [
    {
     "data": {
      "text/plain": [
       "array([0, 5], dtype=int32)"
      ]
     },
     "execution_count": 18,
     "metadata": {},
     "output_type": "execute_result"
    }
   ],
   "source": [
    "sess.run(indx[0:k],{x:xx})"
   ]
  },
  {
   "cell_type": "markdown",
   "metadata": {},
   "source": [
    "Now we keep the coefficients which contribute 90% to the entire energy of the transformed signal while zeroing the other one. "
   ]
  },
  {
   "cell_type": "code",
   "execution_count": 26,
   "metadata": {},
   "outputs": [
    {
     "data": {
      "text/plain": [
       "array([500.00058, 341.01257], dtype=float32)"
      ]
     },
     "execution_count": 26,
     "metadata": {},
     "output_type": "execute_result"
    }
   ],
   "source": [
    "# See appendix\n",
    "indices=tf.expand_dims(indx[0:k],-1)\n",
    "\n",
    "updates=tf.squeeze(tf.gather(x_dct, indices))\n",
    "ing the signaling the signal\n",
    "shape = tf.constant([100])\n",
    "\n",
    "sess.run(updates,{x:xx})\n",
    "#np.shape(ff)"
   ]
  },
  {
   "cell_type": "code",
   "execution_count": 28,
   "metadata": {},
   "outputs": [
    {
     "data": {
      "text/plain": [
       "array([500.00058,   0.     ,   0.     ,   0.     ,   0.     , 341.01257,\n",
       "         0.     ,   0.     ,   0.     ,   0.     ,   0.     ,   0.     ,\n",
       "         0.     ,   0.     ,   0.     ,   0.     ,   0.     ,   0.     ,\n",
       "         0.     ,   0.     ,   0.     ,   0.     ,   0.     ,   0.     ,\n",
       "         0.     ,   0.     ,   0.     ,   0.     ,   0.     ,   0.     ,\n",
       "         0.     ,   0.     ,   0.     ,   0.     ,   0.     ,   0.     ,\n",
       "         0.     ,   0.     ,   0.     ,   0.     ,   0.     ,   0.     ,\n",
       "         0.     ,   0.     ,   0.     ,   0.     ,   0.     ,   0.     ,\n",
       "         0.     ,   0.     ,   0.     ,   0.     ,   0.     ,   0.     ,\n",
       "         0.     ,   0.     ,   0.     ,   0.     ,   0.     ,   0.     ,\n",
       "         0.     ,   0.     ,   0.     ,   0.     ,   0.     ,   0.     ,\n",
       "         0.     ,   0.     ,   0.     ,   0.     ,   0.     ,   0.     ,\n",
       "         0.     ,   0.     ,   0.     ,   0.     ,   0.     ,   0.     ,\n",
       "         0.     ,   0.     ,   0.     ,   0.     ,   0.     ,   0.     ,\n",
       "         0.     ,   0.     ,   0.     ,   0.     ,   0.     ,   0.     ,\n",
       "         0.     ,   0.     ,   0.     ,   0.     ,   0.     ,   0.     ,\n",
       "         0.     ,   0.     ,   0.     ,   0.     ], dtype=float32)"
      ]
     },
     "execution_count": 28,
     "metadata": {},
     "output_type": "execute_result"
    }
   ],
   "source": [
    "scatter = tf.scatter_nd(indices, updates, shape)\n",
    "sess.run(scatter,{x:xx})\n",
    "#np.shape(ff)"
   ]
  },
  {
   "cell_type": "markdown",
   "metadata": {},
   "source": [
    "## Reconstructed signal"
   ]
  },
  {
   "cell_type": "code",
   "execution_count": 31,
   "metadata": {},
   "outputs": [],
   "source": [
    "reco_x=idct(scatter,2, norm='ortho')"
   ]
  },
  {
   "cell_type": "code",
   "execution_count": 32,
   "metadata": {},
   "outputs": [
    {
     "data": {
      "text/plain": [
       "<tf.Tensor 'dct_1/strided_slice:0' shape=(100,) dtype=float32>"
      ]
     },
     "execution_count": 32,
     "metadata": {},
     "output_type": "execute_result"
    }
   ],
   "source": [
    "reco_x"
   ]
  },
  {
   "cell_type": "code",
   "execution_count": null,
   "metadata": {},
   "outputs": [],
   "source": []
  },
  {
   "cell_type": "code",
   "execution_count": 36,
   "metadata": {},
   "outputs": [
    {
     "data": {
      "image/png": "[encoded data removed]",
      "text/plain": [
       "<matplotlib.figure.Figure at 0x7f95b0644710>"
      ]
     },
     "metadata": {},
     "output_type": "display_data"
    }
   ],
   "source": [
    "plt.plot(xx[0])\n",
    "plt.plot(sess.run(reco_x, {x:xx}))\n",
    "plt.show()"
   ]
  },
  {
   "cell_type": "markdown",
   "metadata": {},
   "source": [
    "## Mean Squared Error"
   ]
  },
  {
   "cell_type": "code",
   "execution_count": 37,
   "metadata": {},
   "outputs": [
    {
     "name": "stdout",
     "output_type": "stream",
     "text": [
      "MSE= 839.3835985793984\n"
     ]
    }
   ],
   "source": [
    "print('MSE=', mean_squared_error(xx[0],sess.run(reco_x, {x:xx})))"
   ]
  },
  {
   "cell_type": "markdown",
   "metadata": {},
   "source": [
    "## Appendix"
   ]
  },
  {
   "cell_type": "code",
   "execution_count": 39,
   "metadata": {},
   "outputs": [
    {
     "name": "stdout",
     "output_type": "stream",
     "text": [
      "[ 0 11  0 10  9  0  0 12]\n"
     ]
    }
   ],
   "source": [
    "# How to use scatter\n",
    "indices = tf.constant([[4], [3], [1], [7]])\n",
    "updates = tf.constant([9, 10, 11, 12])\n",
    "shape = tf.constant([8])\n",
    "    \n",
    "scatter = tf.scatter_nd(indices, updates, shape)\n",
    "    \n",
    "with tf.Session() as sess:\n",
    "    print(sess.run(scatter))\n"
   ]
  },
  {
   "cell_type": "code",
   "execution_count": null,
   "metadata": {},
   "outputs": [],
   "source": [
    "# How to use while loop\n",
    "\n",
    "i = tf.constant(0)\n",
    "c = lambda i: tf.less(i, 10)\n",
    "b = lambda i: tf.add(i, 1)\n",
    "r = tf.while_loop(c, b, [i])\n",
    "\n",
    "sess.run(r)"
   ]
  },
  {
   "cell_type": "code",
   "execution_count": null,
   "metadata": {},
   "outputs": [],
   "source": []
  },
  {
   "cell_type": "markdown",
   "metadata": {},
   "source": [
    "indx is a tensor. We can use slicing to access its elements as follows: \n",
    "indx[0:i] The resulting subtensor is used to access the corresponding dct coefficients but using tf.gather. \n",
    "\n"
   ]
  },
  {
   "cell_type": "code",
   "execution_count": null,
   "metadata": {},
   "outputs": [],
   "source": []
  }
 ],
 "metadata": {
  "kernelspec": {
   "display_name": "Python 3",
   "language": "python",
   "name": "python3"
  },
  "language_info": {
   "codemirror_mode": {
    "name": "ipython",
    "version": 3
   },
   "file_extension": ".py",
   "mimetype": "text/x-python",
   "name": "python",
   "nbconvert_exporter": "python",
   "pygments_lexer": "ipython3",
   "version": "3.6.4"
  }
 },
 "nbformat": 4,
 "nbformat_minor": 2
}
